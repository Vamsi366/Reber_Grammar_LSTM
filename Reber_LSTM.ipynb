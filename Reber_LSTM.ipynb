{
 "cells": [
  {
   "cell_type": "code",
   "execution_count": 1,
   "metadata": {},
   "outputs": [],
   "source": [
    "#importing libraries\n",
    "import numpy as np\n",
    "import pandas as pd\n",
    "import matplotlib.pyplot as plt\n",
    "import tensorflow as tf\n",
    "from tensorflow.keras.models import Sequential\n",
    "from tensorflow.keras.layers import Dense, Embedding, LSTM, Dropout, TimeDistributed\n",
    "from tensorflow.keras.preprocessing.sequence import pad_sequences\n",
    "from sklearn.model_selection import train_test_split\n",
    "from tensorflow.keras.utils import to_categorical\n"
   ]
  },
  {
   "cell_type": "code",
   "execution_count": 3,
   "metadata": {},
   "outputs": [],
   "source": [
    "# Define Reber grammar and embedded Reber grammar\n",
    "default_reber_grammar = [\n",
    "    [(\"B\",1)],  #(state 0) =B=> (state 1)\n",
    "    [(\"T\", 2),(\"P\", 3)],  # (state 1) =T=> (state 2) or =P=> (state 3)\n",
    "    [(\"X\", 5), (\"S\", 2)], # (state 2) =X=> (state 5) or =S=> (state 2)\n",
    "    [(\"T\", 3), (\"V\", 4)], # (state 3) =T=> (state 3) or =V=> (state 4)\n",
    "    [(\"V\", 6), (\"P\", 5)], # (state 4) =V=> (state 6) or =P=> (state 5)\n",
    "    [(\"X\",3), (\"S\", 6)],  # (state 5) =X=> (state 3) or =S=> (state 6)\n",
    "    [(\"E\", None)]         # (state 6) =E=> <EOS>\n",
    "]\n",
    "\n",
    "embedded_reber_grammar = [\n",
    "    [(\"B\",1)],  #(state 0) =B=> (state 1)\n",
    "    [(\"T\", 2),(\"P\", 3)],  # (state 1) =T=> (state 2) or =P=> (state 3)\n",
    "    [(default_reber_grammar,4)], # (state 2) =REBER=> (state 4)\n",
    "    [(default_reber_grammar,5)], # (state 3) =REBER=> (state 5)\n",
    "    [(\"P\", 6)], # (state 4) =P=> (state 6)\n",
    "    [(\"T\",6)],  # (state 5) =T=> (state 3)\n",
    "    [(\"E\", None)]         # (state 6) =E=> <EOS>\n",
    "]\n"
   ]
  },
  {
   "cell_type": "code",
   "execution_count": 4,
   "metadata": {},
   "outputs": [],
   "source": [
    "def generate_reber_sequence(grammar):\n",
    "    state = 0\n",
    "    sequence = []\n",
    "    while state is not None:\n",
    "        transitions = grammar[state]\n",
    "        symbol, state = transitions[np.random.randint(len(transitions))]\n",
    "        if isinstance(symbol, list):  # If the symbol is a sub-grammar, generate a sub-sequence\n",
    "            sequence += generate_reber_sequence(symbol)\n",
    "        else:\n",
    "            sequence.append(symbol)\n",
    "    return ''.join(sequence)\n",
    "\n",
    "def generate_dataset(grammar, n_samples):\n",
    "    return [generate_reber_sequence(grammar) for _ in range(n_samples)]\n",
    "\n",
    "# Generate dataset using embedded Reber grammar\n",
    "n_samples = 10000\n",
    "sequences = generate_dataset(embedded_reber_grammar, n_samples)\n"
   ]
  },
  {
   "cell_type": "code",
   "execution_count": 5,
   "metadata": {},
   "outputs": [
    {
     "name": "stdout",
     "output_type": "stream",
     "text": [
      "X shape: (10000, 44)\n",
      "y shape: (10000, 44, 8)\n"
     ]
    }
   ],
   "source": [
    "# Preprocess the data\n",
    "tokenizer = tf.keras.preprocessing.text.Tokenizer(char_level=True)\n",
    "tokenizer.fit_on_texts(sequences)\n",
    "sequences = tokenizer.texts_to_sequences(sequences)\n",
    "max_sequence_length = max(len(seq) for seq in sequences)\n",
    "sequences = pad_sequences(sequences, maxlen=max_sequence_length, padding='post')\n",
    "\n",
    "# Prepare input and output\n",
    "X = sequences[:, :-1]  # Input sequences (all but last character)\n",
    "y = sequences[:, 1:]   # Target sequences (all but first character)\n",
    "y = to_categorical(y, num_classes=len(tokenizer.word_index) + 1)  # One-hot encode the target\n",
    "\n",
    "# Verify shapes\n",
    "print(f\"X shape: {X.shape}\")  # Should be (n_samples, max_sequence_length-1)\n",
    "print(f\"y shape: {y.shape}\")  # Should be (n_samples, max_sequence_length-1, vocab_size)\n",
    "\n",
    "# Split the data into training and validation sets\n",
    "X_train, X_val, y_train, y_val = train_test_split(X, y, test_size=0.2, random_state=42)\n"
   ]
  },
  {
   "cell_type": "code",
   "execution_count": 6,
   "metadata": {},
   "outputs": [
    {
     "name": "stderr",
     "output_type": "stream",
     "text": [
      "c:\\Users\\Asus\\AppData\\Local\\Programs\\Python\\Python310\\lib\\site-packages\\keras\\src\\layers\\core\\embedding.py:90: UserWarning: Argument `input_length` is deprecated. Just remove it.\n",
      "  warnings.warn(\n"
     ]
    },
    {
     "data": {
      "text/html": [
       "<pre style=\"white-space:pre;overflow-x:auto;line-height:normal;font-family:Menlo,'DejaVu Sans Mono',consolas,'Courier New',monospace\"><span style=\"font-weight: bold\">Model: \"sequential\"</span>\n",
       "</pre>\n"
      ],
      "text/plain": [
       "\u001b[1mModel: \"sequential\"\u001b[0m\n"
      ]
     },
     "metadata": {},
     "output_type": "display_data"
    },
    {
     "data": {
      "text/html": [
       "<pre style=\"white-space:pre;overflow-x:auto;line-height:normal;font-family:Menlo,'DejaVu Sans Mono',consolas,'Courier New',monospace\">┏━━━━━━━━━━━━━━━━━━━━━━━━━━━━━━━━━┳━━━━━━━━━━━━━━━━━━━━━━━━┳━━━━━━━━━━━━━━━┓\n",
       "┃<span style=\"font-weight: bold\"> Layer (type)                    </span>┃<span style=\"font-weight: bold\"> Output Shape           </span>┃<span style=\"font-weight: bold\">       Param # </span>┃\n",
       "┡━━━━━━━━━━━━━━━━━━━━━━━━━━━━━━━━━╇━━━━━━━━━━━━━━━━━━━━━━━━╇━━━━━━━━━━━━━━━┩\n",
       "│ embedding (<span style=\"color: #0087ff; text-decoration-color: #0087ff\">Embedding</span>)           │ ?                      │   <span style=\"color: #00af00; text-decoration-color: #00af00\">0</span> (unbuilt) │\n",
       "├─────────────────────────────────┼────────────────────────┼───────────────┤\n",
       "│ lstm (<span style=\"color: #0087ff; text-decoration-color: #0087ff\">LSTM</span>)                     │ ?                      │   <span style=\"color: #00af00; text-decoration-color: #00af00\">0</span> (unbuilt) │\n",
       "├─────────────────────────────────┼────────────────────────┼───────────────┤\n",
       "│ dropout (<span style=\"color: #0087ff; text-decoration-color: #0087ff\">Dropout</span>)               │ ?                      │   <span style=\"color: #00af00; text-decoration-color: #00af00\">0</span> (unbuilt) │\n",
       "├─────────────────────────────────┼────────────────────────┼───────────────┤\n",
       "│ time_distributed                │ ?                      │   <span style=\"color: #00af00; text-decoration-color: #00af00\">0</span> (unbuilt) │\n",
       "│ (<span style=\"color: #0087ff; text-decoration-color: #0087ff\">TimeDistributed</span>)               │                        │               │\n",
       "└─────────────────────────────────┴────────────────────────┴───────────────┘\n",
       "</pre>\n"
      ],
      "text/plain": [
       "┏━━━━━━━━━━━━━━━━━━━━━━━━━━━━━━━━━┳━━━━━━━━━━━━━━━━━━━━━━━━┳━━━━━━━━━━━━━━━┓\n",
       "┃\u001b[1m \u001b[0m\u001b[1mLayer (type)                   \u001b[0m\u001b[1m \u001b[0m┃\u001b[1m \u001b[0m\u001b[1mOutput Shape          \u001b[0m\u001b[1m \u001b[0m┃\u001b[1m \u001b[0m\u001b[1m      Param #\u001b[0m\u001b[1m \u001b[0m┃\n",
       "┡━━━━━━━━━━━━━━━━━━━━━━━━━━━━━━━━━╇━━━━━━━━━━━━━━━━━━━━━━━━╇━━━━━━━━━━━━━━━┩\n",
       "│ embedding (\u001b[38;5;33mEmbedding\u001b[0m)           │ ?                      │   \u001b[38;5;34m0\u001b[0m (unbuilt) │\n",
       "├─────────────────────────────────┼────────────────────────┼───────────────┤\n",
       "│ lstm (\u001b[38;5;33mLSTM\u001b[0m)                     │ ?                      │   \u001b[38;5;34m0\u001b[0m (unbuilt) │\n",
       "├─────────────────────────────────┼────────────────────────┼───────────────┤\n",
       "│ dropout (\u001b[38;5;33mDropout\u001b[0m)               │ ?                      │   \u001b[38;5;34m0\u001b[0m (unbuilt) │\n",
       "├─────────────────────────────────┼────────────────────────┼───────────────┤\n",
       "│ time_distributed                │ ?                      │   \u001b[38;5;34m0\u001b[0m (unbuilt) │\n",
       "│ (\u001b[38;5;33mTimeDistributed\u001b[0m)               │                        │               │\n",
       "└─────────────────────────────────┴────────────────────────┴───────────────┘\n"
      ]
     },
     "metadata": {},
     "output_type": "display_data"
    },
    {
     "data": {
      "text/html": [
       "<pre style=\"white-space:pre;overflow-x:auto;line-height:normal;font-family:Menlo,'DejaVu Sans Mono',consolas,'Courier New',monospace\"><span style=\"font-weight: bold\"> Total params: </span><span style=\"color: #00af00; text-decoration-color: #00af00\">0</span> (0.00 B)\n",
       "</pre>\n"
      ],
      "text/plain": [
       "\u001b[1m Total params: \u001b[0m\u001b[38;5;34m0\u001b[0m (0.00 B)\n"
      ]
     },
     "metadata": {},
     "output_type": "display_data"
    },
    {
     "data": {
      "text/html": [
       "<pre style=\"white-space:pre;overflow-x:auto;line-height:normal;font-family:Menlo,'DejaVu Sans Mono',consolas,'Courier New',monospace\"><span style=\"font-weight: bold\"> Trainable params: </span><span style=\"color: #00af00; text-decoration-color: #00af00\">0</span> (0.00 B)\n",
       "</pre>\n"
      ],
      "text/plain": [
       "\u001b[1m Trainable params: \u001b[0m\u001b[38;5;34m0\u001b[0m (0.00 B)\n"
      ]
     },
     "metadata": {},
     "output_type": "display_data"
    },
    {
     "data": {
      "text/html": [
       "<pre style=\"white-space:pre;overflow-x:auto;line-height:normal;font-family:Menlo,'DejaVu Sans Mono',consolas,'Courier New',monospace\"><span style=\"font-weight: bold\"> Non-trainable params: </span><span style=\"color: #00af00; text-decoration-color: #00af00\">0</span> (0.00 B)\n",
       "</pre>\n"
      ],
      "text/plain": [
       "\u001b[1m Non-trainable params: \u001b[0m\u001b[38;5;34m0\u001b[0m (0.00 B)\n"
      ]
     },
     "metadata": {},
     "output_type": "display_data"
    }
   ],
   "source": [
    "# Define the model\n",
    "vocab_size = len(tokenizer.word_index) + 1  # Vocabulary size\n",
    "embedding_dim = 128  # Size of the embedding vectors\n",
    "\n",
    "model = Sequential()\n",
    "model.add(Embedding(input_dim=vocab_size, output_dim=embedding_dim, input_length=max_sequence_length-1))\n",
    "model.add(LSTM(units=128, return_sequences=True))\n",
    "model.add(Dropout(0.5))  # Dropout layer to prevent overfitting\n",
    "model.add(TimeDistributed(Dense(units=vocab_size, activation='softmax')))\n",
    "\n",
    "# Compile the model\n",
    "model.compile(loss='categorical_crossentropy', optimizer='adam', metrics=['accuracy'])\n",
    "\n",
    "# Summary of the model\n",
    "model.summary()\n"
   ]
  },
  {
   "cell_type": "code",
   "execution_count": 7,
   "metadata": {},
   "outputs": [
    {
     "name": "stdout",
     "output_type": "stream",
     "text": [
      "Epoch 1/100\n",
      "250/250 - 16s - 66ms/step - accuracy: 0.8666 - loss: 0.3235 - val_accuracy: 0.9099 - val_loss: 0.1341\n",
      "Epoch 2/100\n",
      "250/250 - 11s - 44ms/step - accuracy: 0.9165 - loss: 0.1281 - val_accuracy: 0.9210 - val_loss: 0.1127\n",
      "Epoch 3/100\n",
      "250/250 - 11s - 43ms/step - accuracy: 0.9206 - loss: 0.1153 - val_accuracy: 0.9207 - val_loss: 0.1115\n",
      "Epoch 4/100\n",
      "250/250 - 11s - 42ms/step - accuracy: 0.9208 - loss: 0.1132 - val_accuracy: 0.9208 - val_loss: 0.1110\n",
      "Epoch 5/100\n",
      "250/250 - 11s - 43ms/step - accuracy: 0.9206 - loss: 0.1123 - val_accuracy: 0.9202 - val_loss: 0.1111\n",
      "Epoch 6/100\n",
      "250/250 - 11s - 43ms/step - accuracy: 0.9206 - loss: 0.1119 - val_accuracy: 0.9206 - val_loss: 0.1110\n",
      "Epoch 7/100\n",
      "250/250 - 10s - 41ms/step - accuracy: 0.9205 - loss: 0.1116 - val_accuracy: 0.9213 - val_loss: 0.1107\n",
      "Epoch 8/100\n",
      "250/250 - 11s - 42ms/step - accuracy: 0.9203 - loss: 0.1115 - val_accuracy: 0.9209 - val_loss: 0.1105\n",
      "Epoch 9/100\n",
      "250/250 - 11s - 44ms/step - accuracy: 0.9206 - loss: 0.1113 - val_accuracy: 0.9202 - val_loss: 0.1106\n",
      "Epoch 10/100\n",
      "250/250 - 11s - 43ms/step - accuracy: 0.9203 - loss: 0.1112 - val_accuracy: 0.9210 - val_loss: 0.1105\n",
      "Epoch 11/100\n",
      "250/250 - 10s - 42ms/step - accuracy: 0.9203 - loss: 0.1113 - val_accuracy: 0.9206 - val_loss: 0.1106\n",
      "Epoch 12/100\n",
      "250/250 - 11s - 43ms/step - accuracy: 0.9206 - loss: 0.1111 - val_accuracy: 0.9204 - val_loss: 0.1105\n",
      "Epoch 13/100\n",
      "250/250 - 11s - 43ms/step - accuracy: 0.9200 - loss: 0.1111 - val_accuracy: 0.9209 - val_loss: 0.1105\n",
      "Epoch 14/100\n",
      "250/250 - 11s - 43ms/step - accuracy: 0.9207 - loss: 0.1110 - val_accuracy: 0.9216 - val_loss: 0.1104\n",
      "Epoch 15/100\n",
      "250/250 - 11s - 42ms/step - accuracy: 0.9200 - loss: 0.1110 - val_accuracy: 0.9205 - val_loss: 0.1105\n",
      "Epoch 16/100\n",
      "250/250 - 9s - 36ms/step - accuracy: 0.9205 - loss: 0.1109 - val_accuracy: 0.9203 - val_loss: 0.1106\n",
      "Epoch 17/100\n",
      "250/250 - 9s - 38ms/step - accuracy: 0.9211 - loss: 0.1108 - val_accuracy: 0.9203 - val_loss: 0.1105\n",
      "Epoch 18/100\n",
      "250/250 - 10s - 40ms/step - accuracy: 0.9208 - loss: 0.1109 - val_accuracy: 0.9220 - val_loss: 0.1104\n",
      "Epoch 19/100\n",
      "250/250 - 10s - 41ms/step - accuracy: 0.9205 - loss: 0.1109 - val_accuracy: 0.9199 - val_loss: 0.1105\n",
      "Epoch 20/100\n",
      "250/250 - 10s - 40ms/step - accuracy: 0.9212 - loss: 0.1109 - val_accuracy: 0.9203 - val_loss: 0.1106\n",
      "Epoch 21/100\n",
      "250/250 - 10s - 39ms/step - accuracy: 0.9204 - loss: 0.1109 - val_accuracy: 0.9196 - val_loss: 0.1104\n",
      "Epoch 22/100\n",
      "250/250 - 10s - 42ms/step - accuracy: 0.9211 - loss: 0.1108 - val_accuracy: 0.9205 - val_loss: 0.1105\n",
      "Epoch 23/100\n",
      "250/250 - 10s - 41ms/step - accuracy: 0.9206 - loss: 0.1108 - val_accuracy: 0.9200 - val_loss: 0.1106\n",
      "Epoch 24/100\n",
      "250/250 - 10s - 42ms/step - accuracy: 0.9206 - loss: 0.1108 - val_accuracy: 0.9209 - val_loss: 0.1105\n",
      "Epoch 25/100\n",
      "250/250 - 10s - 41ms/step - accuracy: 0.9206 - loss: 0.1108 - val_accuracy: 0.9211 - val_loss: 0.1106\n",
      "Epoch 26/100\n",
      "250/250 - 10s - 40ms/step - accuracy: 0.9209 - loss: 0.1108 - val_accuracy: 0.9196 - val_loss: 0.1108\n",
      "Epoch 27/100\n",
      "250/250 - 10s - 40ms/step - accuracy: 0.9205 - loss: 0.1108 - val_accuracy: 0.9204 - val_loss: 0.1106\n",
      "Epoch 28/100\n",
      "250/250 - 10s - 41ms/step - accuracy: 0.9199 - loss: 0.1108 - val_accuracy: 0.9205 - val_loss: 0.1104\n",
      "Epoch 29/100\n",
      "250/250 - 21s - 82ms/step - accuracy: 0.9203 - loss: 0.1108 - val_accuracy: 0.9200 - val_loss: 0.1105\n",
      "Epoch 30/100\n",
      "250/250 - 10s - 40ms/step - accuracy: 0.9207 - loss: 0.1107 - val_accuracy: 0.9200 - val_loss: 0.1104\n",
      "Epoch 31/100\n",
      "250/250 - 10s - 41ms/step - accuracy: 0.9207 - loss: 0.1107 - val_accuracy: 0.9213 - val_loss: 0.1105\n",
      "Epoch 32/100\n",
      "250/250 - 10s - 42ms/step - accuracy: 0.9209 - loss: 0.1107 - val_accuracy: 0.9211 - val_loss: 0.1105\n",
      "Epoch 33/100\n",
      "250/250 - 10s - 40ms/step - accuracy: 0.9203 - loss: 0.1109 - val_accuracy: 0.9202 - val_loss: 0.1105\n",
      "Epoch 34/100\n",
      "250/250 - 10s - 41ms/step - accuracy: 0.9207 - loss: 0.1108 - val_accuracy: 0.9204 - val_loss: 0.1106\n",
      "Epoch 35/100\n",
      "250/250 - 10s - 41ms/step - accuracy: 0.9208 - loss: 0.1107 - val_accuracy: 0.9207 - val_loss: 0.1105\n",
      "Epoch 36/100\n",
      "250/250 - 10s - 41ms/step - accuracy: 0.9205 - loss: 0.1107 - val_accuracy: 0.9209 - val_loss: 0.1105\n",
      "Epoch 37/100\n",
      "250/250 - 10s - 41ms/step - accuracy: 0.9204 - loss: 0.1108 - val_accuracy: 0.9203 - val_loss: 0.1105\n",
      "Epoch 38/100\n",
      "250/250 - 10s - 41ms/step - accuracy: 0.9202 - loss: 0.1108 - val_accuracy: 0.9207 - val_loss: 0.1104\n",
      "Epoch 39/100\n",
      "250/250 - 10s - 40ms/step - accuracy: 0.9203 - loss: 0.1107 - val_accuracy: 0.9208 - val_loss: 0.1104\n",
      "Epoch 40/100\n",
      "250/250 - 9s - 37ms/step - accuracy: 0.9204 - loss: 0.1107 - val_accuracy: 0.9209 - val_loss: 0.1104\n",
      "Epoch 41/100\n",
      "250/250 - 10s - 40ms/step - accuracy: 0.9202 - loss: 0.1108 - val_accuracy: 0.9210 - val_loss: 0.1104\n",
      "Epoch 42/100\n",
      "250/250 - 10s - 42ms/step - accuracy: 0.9206 - loss: 0.1107 - val_accuracy: 0.9198 - val_loss: 0.1105\n",
      "Epoch 43/100\n",
      "250/250 - 10s - 40ms/step - accuracy: 0.9209 - loss: 0.1107 - val_accuracy: 0.9202 - val_loss: 0.1105\n",
      "Epoch 44/100\n",
      "250/250 - 10s - 42ms/step - accuracy: 0.9208 - loss: 0.1107 - val_accuracy: 0.9204 - val_loss: 0.1106\n",
      "Epoch 45/100\n",
      "250/250 - 10s - 38ms/step - accuracy: 0.9206 - loss: 0.1107 - val_accuracy: 0.9207 - val_loss: 0.1105\n",
      "Epoch 46/100\n",
      "250/250 - 8s - 33ms/step - accuracy: 0.9199 - loss: 0.1107 - val_accuracy: 0.9197 - val_loss: 0.1105\n",
      "Epoch 47/100\n",
      "250/250 - 8s - 33ms/step - accuracy: 0.9211 - loss: 0.1106 - val_accuracy: 0.9196 - val_loss: 0.1105\n",
      "Epoch 48/100\n",
      "250/250 - 8s - 32ms/step - accuracy: 0.9207 - loss: 0.1107 - val_accuracy: 0.9202 - val_loss: 0.1104\n",
      "Epoch 49/100\n",
      "250/250 - 8s - 32ms/step - accuracy: 0.9205 - loss: 0.1107 - val_accuracy: 0.9205 - val_loss: 0.1104\n",
      "Epoch 50/100\n",
      "250/250 - 8s - 32ms/step - accuracy: 0.9205 - loss: 0.1107 - val_accuracy: 0.9209 - val_loss: 0.1104\n",
      "Epoch 51/100\n",
      "250/250 - 8s - 33ms/step - accuracy: 0.9209 - loss: 0.1107 - val_accuracy: 0.9211 - val_loss: 0.1104\n",
      "Epoch 52/100\n",
      "250/250 - 8s - 32ms/step - accuracy: 0.9207 - loss: 0.1106 - val_accuracy: 0.9203 - val_loss: 0.1105\n",
      "Epoch 53/100\n",
      "250/250 - 8s - 33ms/step - accuracy: 0.9201 - loss: 0.1107 - val_accuracy: 0.9210 - val_loss: 0.1104\n",
      "Epoch 54/100\n",
      "250/250 - 8s - 33ms/step - accuracy: 0.9206 - loss: 0.1107 - val_accuracy: 0.9197 - val_loss: 0.1105\n",
      "Epoch 55/100\n",
      "250/250 - 8s - 33ms/step - accuracy: 0.9205 - loss: 0.1107 - val_accuracy: 0.9214 - val_loss: 0.1104\n",
      "Epoch 56/100\n",
      "250/250 - 8s - 34ms/step - accuracy: 0.9208 - loss: 0.1107 - val_accuracy: 0.9206 - val_loss: 0.1104\n",
      "Epoch 57/100\n",
      "250/250 - 8s - 33ms/step - accuracy: 0.9207 - loss: 0.1107 - val_accuracy: 0.9208 - val_loss: 0.1104\n",
      "Epoch 58/100\n",
      "250/250 - 8s - 33ms/step - accuracy: 0.9209 - loss: 0.1106 - val_accuracy: 0.9205 - val_loss: 0.1104\n",
      "Epoch 59/100\n",
      "250/250 - 8s - 33ms/step - accuracy: 0.9205 - loss: 0.1107 - val_accuracy: 0.9201 - val_loss: 0.1104\n",
      "Epoch 60/100\n",
      "250/250 - 8s - 32ms/step - accuracy: 0.9213 - loss: 0.1106 - val_accuracy: 0.9209 - val_loss: 0.1106\n",
      "Epoch 61/100\n",
      "250/250 - 8s - 31ms/step - accuracy: 0.9208 - loss: 0.1107 - val_accuracy: 0.9204 - val_loss: 0.1106\n",
      "Epoch 62/100\n",
      "250/250 - 8s - 31ms/step - accuracy: 0.9210 - loss: 0.1106 - val_accuracy: 0.9205 - val_loss: 0.1104\n",
      "Epoch 63/100\n",
      "250/250 - 8s - 32ms/step - accuracy: 0.9208 - loss: 0.1106 - val_accuracy: 0.9201 - val_loss: 0.1105\n",
      "Epoch 64/100\n",
      "250/250 - 8s - 32ms/step - accuracy: 0.9204 - loss: 0.1106 - val_accuracy: 0.9201 - val_loss: 0.1105\n",
      "Epoch 65/100\n",
      "250/250 - 11s - 42ms/step - accuracy: 0.9210 - loss: 0.1106 - val_accuracy: 0.9212 - val_loss: 0.1104\n",
      "Epoch 66/100\n",
      "250/250 - 8s - 33ms/step - accuracy: 0.9206 - loss: 0.1108 - val_accuracy: 0.9203 - val_loss: 0.1105\n",
      "Epoch 67/100\n",
      "250/250 - 9s - 38ms/step - accuracy: 0.9208 - loss: 0.1107 - val_accuracy: 0.9206 - val_loss: 0.1105\n",
      "Epoch 68/100\n",
      "250/250 - 8s - 31ms/step - accuracy: 0.9206 - loss: 0.1107 - val_accuracy: 0.9212 - val_loss: 0.1105\n",
      "Epoch 69/100\n",
      "250/250 - 8s - 31ms/step - accuracy: 0.9205 - loss: 0.1107 - val_accuracy: 0.9210 - val_loss: 0.1105\n",
      "Epoch 70/100\n",
      "250/250 - 8s - 34ms/step - accuracy: 0.9204 - loss: 0.1107 - val_accuracy: 0.9218 - val_loss: 0.1103\n",
      "Epoch 71/100\n",
      "250/250 - 11s - 43ms/step - accuracy: 0.9207 - loss: 0.1106 - val_accuracy: 0.9210 - val_loss: 0.1104\n",
      "Epoch 72/100\n",
      "250/250 - 10s - 41ms/step - accuracy: 0.9205 - loss: 0.1107 - val_accuracy: 0.9206 - val_loss: 0.1105\n",
      "Epoch 73/100\n",
      "250/250 - 10s - 42ms/step - accuracy: 0.9207 - loss: 0.1106 - val_accuracy: 0.9196 - val_loss: 0.1105\n",
      "Epoch 74/100\n",
      "250/250 - 11s - 43ms/step - accuracy: 0.9209 - loss: 0.1106 - val_accuracy: 0.9204 - val_loss: 0.1104\n",
      "Epoch 75/100\n",
      "250/250 - 11s - 42ms/step - accuracy: 0.9210 - loss: 0.1106 - val_accuracy: 0.9209 - val_loss: 0.1104\n",
      "Epoch 76/100\n",
      "250/250 - 10s - 42ms/step - accuracy: 0.9208 - loss: 0.1106 - val_accuracy: 0.9201 - val_loss: 0.1106\n",
      "Epoch 77/100\n",
      "250/250 - 10s - 42ms/step - accuracy: 0.9211 - loss: 0.1106 - val_accuracy: 0.9202 - val_loss: 0.1107\n",
      "Epoch 78/100\n",
      "250/250 - 10s - 41ms/step - accuracy: 0.9206 - loss: 0.1107 - val_accuracy: 0.9198 - val_loss: 0.1105\n",
      "Epoch 79/100\n",
      "250/250 - 11s - 42ms/step - accuracy: 0.9209 - loss: 0.1106 - val_accuracy: 0.9216 - val_loss: 0.1104\n",
      "Epoch 80/100\n",
      "250/250 - 11s - 43ms/step - accuracy: 0.9210 - loss: 0.1106 - val_accuracy: 0.9197 - val_loss: 0.1105\n",
      "Epoch 81/100\n",
      "250/250 - 11s - 42ms/step - accuracy: 0.9213 - loss: 0.1106 - val_accuracy: 0.9200 - val_loss: 0.1104\n",
      "Epoch 82/100\n",
      "250/250 - 11s - 42ms/step - accuracy: 0.9208 - loss: 0.1106 - val_accuracy: 0.9194 - val_loss: 0.1108\n",
      "Epoch 83/100\n",
      "250/250 - 11s - 43ms/step - accuracy: 0.9209 - loss: 0.1106 - val_accuracy: 0.9203 - val_loss: 0.1106\n",
      "Epoch 84/100\n",
      "250/250 - 10s - 42ms/step - accuracy: 0.9207 - loss: 0.1106 - val_accuracy: 0.9212 - val_loss: 0.1104\n",
      "Epoch 85/100\n",
      "250/250 - 10s - 42ms/step - accuracy: 0.9206 - loss: 0.1106 - val_accuracy: 0.9205 - val_loss: 0.1105\n",
      "Epoch 86/100\n",
      "250/250 - 10s - 42ms/step - accuracy: 0.9209 - loss: 0.1106 - val_accuracy: 0.9198 - val_loss: 0.1106\n",
      "Epoch 87/100\n",
      "250/250 - 11s - 43ms/step - accuracy: 0.9208 - loss: 0.1106 - val_accuracy: 0.9213 - val_loss: 0.1104\n",
      "Epoch 88/100\n",
      "250/250 - 10s - 41ms/step - accuracy: 0.9207 - loss: 0.1106 - val_accuracy: 0.9206 - val_loss: 0.1104\n",
      "Epoch 89/100\n",
      "250/250 - 10s - 41ms/step - accuracy: 0.9208 - loss: 0.1106 - val_accuracy: 0.9213 - val_loss: 0.1103\n",
      "Epoch 90/100\n",
      "250/250 - 11s - 43ms/step - accuracy: 0.9214 - loss: 0.1106 - val_accuracy: 0.9200 - val_loss: 0.1104\n",
      "Epoch 91/100\n",
      "250/250 - 11s - 43ms/step - accuracy: 0.9210 - loss: 0.1106 - val_accuracy: 0.9196 - val_loss: 0.1105\n",
      "Epoch 92/100\n",
      "250/250 - 11s - 42ms/step - accuracy: 0.9202 - loss: 0.1106 - val_accuracy: 0.9210 - val_loss: 0.1104\n",
      "Epoch 93/100\n",
      "250/250 - 10s - 41ms/step - accuracy: 0.9205 - loss: 0.1106 - val_accuracy: 0.9212 - val_loss: 0.1104\n",
      "Epoch 94/100\n",
      "250/250 - 11s - 42ms/step - accuracy: 0.9209 - loss: 0.1106 - val_accuracy: 0.9202 - val_loss: 0.1106\n",
      "Epoch 95/100\n",
      "250/250 - 10s - 42ms/step - accuracy: 0.9214 - loss: 0.1106 - val_accuracy: 0.9209 - val_loss: 0.1104\n",
      "Epoch 96/100\n",
      "250/250 - 11s - 42ms/step - accuracy: 0.9215 - loss: 0.1106 - val_accuracy: 0.9198 - val_loss: 0.1106\n",
      "Epoch 97/100\n",
      "250/250 - 11s - 42ms/step - accuracy: 0.9209 - loss: 0.1106 - val_accuracy: 0.9207 - val_loss: 0.1104\n",
      "Epoch 98/100\n",
      "250/250 - 11s - 43ms/step - accuracy: 0.9210 - loss: 0.1106 - val_accuracy: 0.9204 - val_loss: 0.1104\n",
      "Epoch 99/100\n",
      "250/250 - 11s - 43ms/step - accuracy: 0.9212 - loss: 0.1106 - val_accuracy: 0.9206 - val_loss: 0.1104\n",
      "Epoch 100/100\n",
      "250/250 - 10s - 42ms/step - accuracy: 0.9210 - loss: 0.1106 - val_accuracy: 0.9216 - val_loss: 0.1104\n"
     ]
    }
   ],
   "source": [
    "# Train the model\n",
    "# verbose level 2 displays more info while training\n",
    "H = model.fit(X_train, y_train, epochs=100, verbose=2, validation_data=(X_val, y_val))\n"
   ]
  },
  {
   "cell_type": "code",
   "execution_count": 8,
   "metadata": {},
   "outputs": [
    {
     "data": {
      "image/png": "[encoded data removed]",
      "text/plain": [
       "<Figure size 1600x900 with 2 Axes>"
      ]
     },
     "metadata": {},
     "output_type": "display_data"
    }
   ],
   "source": [
    "# Function to plot training results\n",
    "def plot_results(H):\n",
    "    results = pd.DataFrame({\"Train Loss\": H.history['loss'], \"Validation Loss\": H.history['val_loss'],\n",
    "                            \"Train Accuracy\": H.history['accuracy'], \"Validation Accuracy\": H.history['val_accuracy']})\n",
    "    fig, ax = plt.subplots(nrows=2, figsize=(16, 9))\n",
    "    results[[\"Train Loss\", \"Validation Loss\"]].plot(ax=ax[0])\n",
    "    results[[\"Train Accuracy\", \"Validation Accuracy\"]].plot(ax=ax[1])\n",
    "    ax[0].set_xlabel(\"Epoch\")\n",
    "    ax[1].set_xlabel(\"Epoch\")\n",
    "    plt.show()\n",
    "\n",
    "# Plot the results\n",
    "plot_results(H)\n"
   ]
  },
  {
   "cell_type": "code",
   "execution_count": 9,
   "metadata": {},
   "outputs": [
    {
     "name": "stdout",
     "output_type": "stream",
     "text": [
      "\u001b[1m1/1\u001b[0m \u001b[32m━━━━━━━━━━━━━━━━━━━━\u001b[0m\u001b[37m\u001b[0m \u001b[1m1s\u001b[0m 516ms/step\n",
      "\u001b[1m1/1\u001b[0m \u001b[32m━━━━━━━━━━━━━━━━━━━━\u001b[0m\u001b[37m\u001b[0m \u001b[1m0s\u001b[0m 28ms/step\n",
      "\u001b[1m1/1\u001b[0m \u001b[32m━━━━━━━━━━━━━━━━━━━━\u001b[0m\u001b[37m\u001b[0m \u001b[1m0s\u001b[0m 27ms/step\n",
      "\u001b[1m1/1\u001b[0m \u001b[32m━━━━━━━━━━━━━━━━━━━━\u001b[0m\u001b[37m\u001b[0m \u001b[1m0s\u001b[0m 35ms/step\n",
      "\u001b[1m1/1\u001b[0m \u001b[32m━━━━━━━━━━━━━━━━━━━━\u001b[0m\u001b[37m\u001b[0m \u001b[1m0s\u001b[0m 29ms/step\n",
      "\u001b[1m1/1\u001b[0m \u001b[32m━━━━━━━━━━━━━━━━━━━━\u001b[0m\u001b[37m\u001b[0m \u001b[1m0s\u001b[0m 26ms/step\n",
      "\u001b[1m1/1\u001b[0m \u001b[32m━━━━━━━━━━━━━━━━━━━━\u001b[0m\u001b[37m\u001b[0m \u001b[1m0s\u001b[0m 41ms/step\n",
      "\u001b[1m1/1\u001b[0m \u001b[32m━━━━━━━━━━━━━━━━━━━━\u001b[0m\u001b[37m\u001b[0m \u001b[1m0s\u001b[0m 35ms/step\n",
      "\u001b[1m1/1\u001b[0m \u001b[32m━━━━━━━━━━━━━━━━━━━━\u001b[0m\u001b[37m\u001b[0m \u001b[1m0s\u001b[0m 32ms/step\n",
      "\u001b[1m1/1\u001b[0m \u001b[32m━━━━━━━━━━━━━━━━━━━━\u001b[0m\u001b[37m\u001b[0m \u001b[1m0s\u001b[0m 34ms/step\n",
      "\u001b[1m1/1\u001b[0m \u001b[32m━━━━━━━━━━━━━━━━━━━━\u001b[0m\u001b[37m\u001b[0m \u001b[1m0s\u001b[0m 32ms/step\n",
      "\u001b[1m1/1\u001b[0m \u001b[32m━━━━━━━━━━━━━━━━━━━━\u001b[0m\u001b[37m\u001b[0m \u001b[1m0s\u001b[0m 29ms/step\n",
      "\u001b[1m1/1\u001b[0m \u001b[32m━━━━━━━━━━━━━━━━━━━━\u001b[0m\u001b[37m\u001b[0m \u001b[1m0s\u001b[0m 29ms/step\n",
      "\u001b[1m1/1\u001b[0m \u001b[32m━━━━━━━━━━━━━━━━━━━━\u001b[0m\u001b[37m\u001b[0m \u001b[1m0s\u001b[0m 31ms/step\n",
      "\u001b[1m1/1\u001b[0m \u001b[32m━━━━━━━━━━━━━━━━━━━━\u001b[0m\u001b[37m\u001b[0m \u001b[1m0s\u001b[0m 28ms/step\n",
      "\u001b[1m1/1\u001b[0m \u001b[32m━━━━━━━━━━━━━━━━━━━━\u001b[0m\u001b[37m\u001b[0m \u001b[1m0s\u001b[0m 26ms/step\n",
      "\u001b[1m1/1\u001b[0m \u001b[32m━━━━━━━━━━━━━━━━━━━━\u001b[0m\u001b[37m\u001b[0m \u001b[1m0s\u001b[0m 29ms/step\n",
      "\u001b[1m1/1\u001b[0m \u001b[32m━━━━━━━━━━━━━━━━━━━━\u001b[0m\u001b[37m\u001b[0m \u001b[1m0s\u001b[0m 23ms/step\n",
      "\u001b[1m1/1\u001b[0m \u001b[32m━━━━━━━━━━━━━━━━━━━━\u001b[0m\u001b[37m\u001b[0m \u001b[1m0s\u001b[0m 27ms/step\n",
      "\u001b[1m1/1\u001b[0m \u001b[32m━━━━━━━━━━━━━━━━━━━━\u001b[0m\u001b[37m\u001b[0m \u001b[1m0s\u001b[0m 36ms/step\n",
      "Generated sequence:  b\n"
     ]
    }
   ],
   "source": [
    "# Function to generate sequences starting with a seed character\n",
    "def generate_sequence_with_seed(model, tokenizer, seed_text, max_sequence_length, num_chars_to_generate):\n",
    "    # Tokenize the seed text\n",
    "    seed_sequence = tokenizer.texts_to_sequences([seed_text])[0]\n",
    "    generated_sequence = seed_sequence\n",
    "    \n",
    "    # Generate characters one by one\n",
    "    for _ in range(num_chars_to_generate):\n",
    "        # Pad the current sequence\n",
    "        padded_sequence = pad_sequences([generated_sequence], maxlen=max_sequence_length-1, padding='post')\n",
    "        \n",
    "        # Predict the next character\n",
    "        predictions = model.predict(padded_sequence)\n",
    "        predicted_char_index = np.argmax(predictions[0][-1])\n",
    "        \n",
    "        # Add the predicted character to the sequence\n",
    "        generated_sequence.append(predicted_char_index)\n",
    "    \n",
    "    # Convert the sequence of indices back to characters\n",
    "    predicted_sequence = ''.join([tokenizer.index_word.get(index, '') for index in generated_sequence])\n",
    "    \n",
    "    return predicted_sequence\n",
    "\n",
    "# Example usage\n",
    "seed_text = \"B\"  # Starting with a valid seed character\n",
    "num_chars_to_generate = 20  # Number of characters to generate\n",
    "predicted_sequence = generate_sequence_with_seed(model, tokenizer, seed_text, max_sequence_length, num_chars_to_generate)\n",
    "\n",
    "print(\"Generated sequence: \", predicted_sequence)\n"
   ]
  }
 ],
 "metadata": {
  "kernelspec": {
   "display_name": "Python 3",
   "language": "python",
   "name": "python3"
  },
  "language_info": {
   "codemirror_mode": {
    "name": "ipython",
    "version": 3
   },
   "file_extension": ".py",
   "mimetype": "text/x-python",
   "name": "python",
   "nbconvert_exporter": "python",
   "pygments_lexer": "ipython3",
   "version": "3.10.8"
  }
 },
 "nbformat": 4,
 "nbformat_minor": 2
}
